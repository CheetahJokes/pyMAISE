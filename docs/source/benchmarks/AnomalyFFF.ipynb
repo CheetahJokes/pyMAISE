{
 "cells": [
  {
   "cell_type": "code",
   "execution_count": 301,
   "id": "3c457a46-7467-4b8b-a751-970dfd4f9d4e",
   "metadata": {},
   "outputs": [
    {
     "name": "stdout",
     "output_type": "stream",
     "text": [
      "The autoreload extension is already loaded. To reload it, use:\n",
      "  %reload_ext autoreload\n",
      "hi\n",
      "Num GPUs Available:  0\n"
     ]
    }
   ],
   "source": [
    "%load_ext autoreload\n",
    "%autoreload 2\n",
    "\n",
    "import time\n",
    "import cv2\n",
    "import numpy as np\n",
    "import matplotlib.pyplot as plt\n",
    "from scipy.stats import uniform, randint\n",
    "from sklearn.preprocessing import MinMaxScaler\n",
    "import xarray as xr\n",
    "from keras.callbacks import EarlyStopping\n",
    "from keras.callbacks import ReduceLROnPlateau\n",
    "#import pymaise \n",
    "print(\"hi\")\n",
    "\n",
    "\n",
    "\n",
    "\n",
    "from pyMAISE.datasets import load_anomaly\n",
    "from pyMAISE.preprocessing import train_test_split, scale_data, one_hot_encode, SplitSequence\n",
    "import pyMAISE as mai\n",
    "\n",
    "global_settings = mai.init(\n",
    "    problem_type=mai.ProblemType.CLASSIFICATION,   # Define a regression problem\n",
    "    cuda_visible_devices=\"1\" ,                 # Use CPU only/ Delete line when run on GPU\n",
    "    verbosity = 3\n",
    ")\n",
    "#GRU 1st, GRU 2nd, and CNN LSTM for 2nd \n",
    "\n",
    "#add hyperp. tuning \n",
    "\n",
    "# call handler\n",
    "input_path = \"/home/jacc/pyMAISE/pyMAISE/datasets/DTL.npy\"\n",
    "output_path = \"/home/jacc/pyMAISE/pyMAISE/datasets/DTL_labels.npy\"\n",
    "#print(mai.__file__)\n",
    "#False, False, False:       X.shape = (1077, 4500, 14), Y.shape = (1077, 1)  one hot !\n",
    "#False, True, False:        X.shape = (1077, 4500, 14), Y.shape = (1077, 1)\n",
    "#False, False, True:        X.shape = (1077, 4500, 14), Y.shape = (1077, 4500, 1)\n",
    "#False, True, True:         X.shape = (1077, 4500, 14), Y.shape = (1077, 4500, 1)\n",
    "#True, False, True:         X.shape = (4846500, 14), Y.shape = (4846500, 1) !!!!\n",
    "#True, True, True:          X.shape = (4846500, 14), Y.shape = (4846500, 1)\n",
    "cond1 = False #stack series\n",
    "cond2 = False #multiclass\n",
    "cond3 = False #propogate output\n",
    "#true f t is the !\n",
    "#F F F is the !!!\n",
    "fract = 1\n",
    "#inputs, outputs = load_anomaly([input_path, output_path], cond1, cond2, cond3)\n",
    "steping = 1\n",
    "inputs, outputs = load_anomaly(input_path, output_path, cond1, cond2, cond3, fract, steping)\n",
    "\n"
   ]
  },
  {
   "cell_type": "code",
   "execution_count": 302,
   "id": "7451817f-89bb-40d6-bbcc-7040273999a8",
   "metadata": {},
   "outputs": [
    {
     "data": {
      "text/plain": [
       "(1077, 4500, 14)"
      ]
     },
     "execution_count": 302,
     "metadata": {},
     "output_type": "execute_result"
    }
   ],
   "source": [
    "inputs.shape\n",
    "\n"
   ]
  },
  {
   "cell_type": "code",
   "execution_count": 303,
   "id": "435eac23-3097-4889-8fda-b8cf777bf977",
   "metadata": {},
   "outputs": [
    {
     "data": {
      "text/plain": [
       "(1077, 1)"
      ]
     },
     "execution_count": 303,
     "metadata": {},
     "output_type": "execute_result"
    }
   ],
   "source": [
    "outputs.shape"
   ]
  },
  {
   "cell_type": "code",
   "execution_count": 304,
   "id": "596e3031-f736-4394-bd33-7e6250162449",
   "metadata": {},
   "outputs": [
    {
     "data": {
      "text/plain": [
       "(1077, 4500, 16)"
      ]
     },
     "execution_count": 304,
     "metadata": {},
     "output_type": "execute_result"
    }
   ],
   "source": [
    "\n",
    "\n",
    "outputs = one_hot_encode(outputs)\n",
    "outputs\n",
    "\n",
    "data = xr.concat([inputs, outputs], dim=\"features\")\n",
    "data.shape\n",
    "\n",
    "#split_sequence = SplitSequence(\n",
    " #   10, \n",
    " #   1, \n",
    " #   0, \n",
    "#    sequence_inputs=data.coords[\"features\"].values[:-2], \n",
    " #   sequence_outputs=data.coords[\"features\"].values[-2:],\n",
    "#)\n",
    "#inputs, outputs = split_sequence.split(data)\n",
    "\n",
    "\n"
   ]
  },
  {
   "cell_type": "code",
   "execution_count": 305,
   "id": "b0be7aca-010d-4105-b5a1-ba8dd12b3b96",
   "metadata": {},
   "outputs": [
    {
     "data": {
      "text/plain": [
       "(1077, 4500, 14)"
      ]
     },
     "execution_count": 305,
     "metadata": {},
     "output_type": "execute_result"
    }
   ],
   "source": [
    "inputs.shape"
   ]
  },
  {
   "cell_type": "code",
   "execution_count": 306,
   "id": "8a7bfa1e-bec0-4535-a52d-6677dc86b63a",
   "metadata": {},
   "outputs": [
    {
     "data": {
      "text/plain": [
       "(1077, 2)"
      ]
     },
     "execution_count": 306,
     "metadata": {},
     "output_type": "execute_result"
    }
   ],
   "source": [
    "outputs.shape"
   ]
  },
  {
   "cell_type": "code",
   "execution_count": 307,
   "id": "21972869-3008-4112-8f49-195fe236bba9",
   "metadata": {},
   "outputs": [],
   "source": [
    "import tensorflow as tf\n",
    "from tensorflow.keras.models import Sequential\n",
    "from tensorflow.keras.layers import Dense, LSTM, Embedding, Dropout\n",
    "from sklearn.model_selection import train_test_split\n",
    "from sklearn.preprocessing import MinMaxScaler\n",
    "\n",
    "xtrain, xtest, ytrain, ytest = train_test_split(inputs, outputs, test_size=0.3)\n",
    "xtrain, xtest, x_scaler = scale_data(xtrain, xtest, scaler=MinMaxScaler())\n",
    "ytrain, ytest, y_scaler = scale_data(ytrain, ytest, scaler=MinMaxScaler())\n",
    "\n",
    "\n"
   ]
  },
  {
   "cell_type": "code",
   "execution_count": 308,
   "id": "091a7f16-97c5-49aa-b2a9-563e3f4e388c",
   "metadata": {},
   "outputs": [
    {
     "data": {
      "text/plain": [
       "(4500, 14)"
      ]
     },
     "execution_count": 308,
     "metadata": {},
     "output_type": "execute_result"
    }
   ],
   "source": [
    "xtrain.shape[1:]\n"
   ]
  },
  {
   "cell_type": "code",
   "execution_count": 309,
   "id": "ab08dd24-52bc-46d3-b463-46f1d515c650",
   "metadata": {},
   "outputs": [
    {
     "data": {
      "text/plain": [
       "(753, 2)"
      ]
     },
     "execution_count": 309,
     "metadata": {},
     "output_type": "execute_result"
    }
   ],
   "source": [
    "ytrain.shape#[1:]"
   ]
  },
  {
   "cell_type": "code",
   "execution_count": 310,
   "id": "2f05a358-941c-4665-bdd2-63d5c22d0ac1",
   "metadata": {},
   "outputs": [],
   "source": [
    "\n",
    "\n",
    "\n",
    "\n",
    "#ytrain\n",
    "\n",
    "#frequency = np.sum(ytrain, axis=0)\n",
    "\n",
    "# Categories\n",
    "#categories = ['Fault', 'NonFault']\n",
    "\n",
    "# Plot\n",
    "#plt.bar(categories, frequency)\n",
    "#plt.title('Frequency of One-Hot Fault/Non Fault')\n",
    "#plt.xlabel('Categories')\n",
    "#plt.ylabel('Frequency')\n",
    "#plt.ticklabel_format(style='plain', axis='y')\n",
    "#plt.show()\n",
    "#ytrain\n",
    "\n",
    "lstm_structure = {\n",
    "    \"LSTM_input\": {\n",
    "        \"units\": 50,\n",
    "        \"input_shape\": xtrain.shape[1:],\n",
    "        \"activation\": \"tanh\",\n",
    "        \"recurrent_activation\": \"sigmoid\",\n",
    "        \"return_sequences\": True,\n",
    "    },\n",
    "    \"LSTM\": {\n",
    "        \"num_layers\": mai.Int(0, 3),\n",
    "        \"units\": 50,\n",
    "        \"activation\": \"tanh\",\n",
    "        \"recurrent_activation\": \"sigmoid\",\n",
    "        \"return_sequences\": True,\n",
    "    },\n",
    "\n",
    "\n",
    "        \n",
    "    \"GRU\": {  # Adding GRU layer\n",
    "        \"num_layers\": mai.Int(min_value=0, max_value=3),\n",
    "        \"units\": 50,\n",
    "        \"return_sequences\": True,\n",
    "        \"activation\": \"tanh\",\n",
    "        \"recurrent_activation\": \"sigmoid\",\n",
    "\n",
    "    },\n",
    "    \"LSTM_output\": {\n",
    "        \"units\": 50,\n",
    "        \"activation\": \"tanh\",\n",
    "        \"recurrent_activation\": \"sigmoid\",\n",
    "    },\n",
    "    \"Dense\": {\n",
    "        \"num_layers\": mai.Int(0, 3),\n",
    "        \"units\": 25,\n",
    "        \"activation\": \"relu\",\n",
    "    },\n",
    "    \"Dense_output\": {\n",
    "        \"units\": ytrain.shape[-1],\n",
    "        \"activation\": \"sigmoid\",\n",
    "    },\n",
    "}\n",
    "\n",
    "model_settings = {\n",
    "    \"models\": [\"LSTM\", \"GRU\"],\n",
    "    \"LSTM\": {\n",
    "        \"structural_params\": lstm_structure,\n",
    "        \"optimizer\": \"Adam\",\n",
    "        \"Adam\": {\"learning_rate\": mai.Float(1e-5, 0.001)},\n",
    "        \"compile_params\": {\n",
    "            \"loss\": \"binary_crossentropy\",\n",
    "            \"metrics\": [\"accuracy\"],\n",
    "        },\n",
    "        \"fitting_params\": {\n",
    "            \"batch_size\": mai.Choice([64, 128, 256]),\n",
    "            \"epochs\": 5,\n",
    "            \"validation_split\": 0.15,\n",
    "        },\n",
    "    },\n",
    "    \"GRU\": {\n",
    "        \"structural_params\": lstm_structure,\n",
    "        \"optimizer\": \"Adam\",\n",
    "        \"Adam\": {\"learning_rate\": mai.Float(1e-5, 0.001)},\n",
    "        \"compile_params\": {\n",
    "            \"loss\": \"binary_crossentropy\",\n",
    "            \"metrics\": [\"accuracy\"],\n",
    "        },\n",
    "        \"fitting_params\": {\n",
    "            \"batch_size\": mai.Choice([64, 128, 256]),\n",
    "            \"epochs\": 5,\n",
    "            \"validation_split\": 0.15,\n",
    "        },\n",
    "    },\n",
    "    \n",
    "}\n",
    "\n",
    "\n",
    "\n",
    "\n",
    "\n",
    "tuner = mai.Tuner(xtrain, ytrain, model_settings=model_settings)\n"
   ]
  },
  {
   "cell_type": "code",
   "execution_count": 311,
   "id": "feca9992-46b7-49f8-8a2d-e7a856479619",
   "metadata": {},
   "outputs": [
    {
     "data": {
      "text/plain": [
       "(4500, 14)"
      ]
     },
     "execution_count": 311,
     "metadata": {},
     "output_type": "execute_result"
    }
   ],
   "source": [
    "xtrain.shape[1:]"
   ]
  },
  {
   "cell_type": "code",
   "execution_count": 312,
   "id": "f9cc2d00-1f25-4e6e-8fa6-92a2b7913527",
   "metadata": {},
   "outputs": [
    {
     "data": {
      "text/plain": [
       "2"
      ]
     },
     "execution_count": 312,
     "metadata": {},
     "output_type": "execute_result"
    }
   ],
   "source": [
    "ytrain.shape[-1]"
   ]
  },
  {
   "cell_type": "code",
   "execution_count": null,
   "id": "d655ce0b-23df-491e-a792-52b0c594fe14",
   "metadata": {},
   "outputs": [
    {
     "name": "stdout",
     "output_type": "stream",
     "text": [
      "Trial 14 Complete [00h 06m 47s]\n",
      "accuracy_score: 0.850597609561753\n",
      "\n",
      "Best accuracy_score So Far: 0.850597609561753\n",
      "Total elapsed time: 01h 07m 11s\n",
      "\n",
      "Search: Running Trial #15\n",
      "\n",
      "Value             |Best Value So Far |Hyperparameter\n",
      "3                 |3                 |LSTM_num_layers\n",
      "3                 |2                 |GRU_num_layers\n",
      "2                 |0                 |Dense_num_layers\n",
      "0.00093803        |0.00073802        |Adam_learning_rate\n",
      "256               |64                |batch_size\n",
      "\n",
      "Epoch 1/5\n",
      "Epoch 2/5\n",
      "Epoch 3/5\n",
      "Epoch 4/5\n",
      "Epoch 5/5\n",
      "8/8 [==============================] - 14s 1s/step\n",
      "Epoch 1/5\n"
     ]
    }
   ],
   "source": [
    "import time\n",
    "from sklearn.model_selection import TimeSeriesSplit\n",
    "start = time.time()\n",
    "\n",
    "bayesian_search_configs = tuner.nn_bayesian_search(\n",
    "    objective=\"accuracy_score\",\n",
    "    max_trials=20,\n",
    "    cv=TimeSeriesSplit(n_splits=2),\n",
    ")\n",
    "\n",
    "print(\"Hyperparameter tuning took \" + str((time.time() - start) / 60) + \" minutes to process.\")"
   ]
  },
  {
   "cell_type": "code",
   "execution_count": null,
   "id": "cdd9c88a-91ff-4040-909a-d1e81cdaeb21",
   "metadata": {
    "scrolled": true
   },
   "outputs": [],
   "source": [
    "xtrain"
   ]
  },
  {
   "cell_type": "code",
   "execution_count": null,
   "id": "9fa33b9b-28ba-45a6-839e-dd65df004812",
   "metadata": {},
   "outputs": [],
   "source": [
    "ytrain.shape"
   ]
  },
  {
   "cell_type": "code",
   "execution_count": null,
   "id": "e01b27d4-a9f6-4c09-b18c-dff5252843f1",
   "metadata": {},
   "outputs": [],
   "source": [
    "xtrain.shape"
   ]
  },
  {
   "cell_type": "code",
   "execution_count": null,
   "id": "357f3f9b-e398-47ea-bc17-abacdc982ed1",
   "metadata": {},
   "outputs": [],
   "source": [
    "postprocessor = mai.PostProcessor(\n",
    "    data=(xtrain, xtest, ytrain, ytest), \n",
    "    model_configs=[bayesian_search_configs], \n",
    "    new_model_settings={\n",
    "        \"FNN\": {\"fitting_params\": {\"epochs\": 500}},\n",
    "    },\n",
    "  #  y_scaler=y_scaler,\n",
    ")"
   ]
  },
  {
   "cell_type": "code",
   "execution_count": null,
   "id": "c3316356",
   "metadata": {},
   "outputs": [],
   "source": [
    "postprocessor.metrics()"
   ]
  },
  {
   "cell_type": "code",
   "execution_count": null,
   "id": "5acd3bf8-839a-4815-b9ae-bea5aed288c5",
   "metadata": {},
   "outputs": [],
   "source": [
    "for model in [ \"LSTM\"]:\n",
    "    for key, value in postprocessor.get_params(model_type=model).to_dict().items():\n",
    "        print(f\"{key}: {value[0]}\")\n",
    "    print()"
   ]
  },
  {
   "cell_type": "code",
   "execution_count": null,
   "id": "1a6146e0",
   "metadata": {},
   "outputs": [],
   "source": [
    "idx = postprocessor._get_idx()\n",
    "idx"
   ]
  },
  {
   "cell_type": "code",
   "execution_count": null,
   "id": "2fc9383e-a60c-49be-8e77-5440303bb0fc",
   "metadata": {},
   "outputs": [],
   "source": [
    "#postprocessor._models()\n",
    "yhat_test = postprocessor._models[\"Test Yhat\"][idx]"
   ]
  },
  {
   "cell_type": "code",
   "execution_count": null,
   "id": "7e24637d-ed75-4baa-be27-3b8bb377c300",
   "metadata": {},
   "outputs": [],
   "source": [
    "postprocessor.get_model()"
   ]
  },
  {
   "cell_type": "code",
   "execution_count": null,
   "id": "9818591a-bee9-4057-aea4-7eefd6b1dbe4",
   "metadata": {},
   "outputs": [],
   "source": [
    " yhat_test"
   ]
  },
  {
   "cell_type": "code",
   "execution_count": null,
   "id": "9731fd64-ffcf-4647-aeaf-cef38b054396",
   "metadata": {},
   "outputs": [],
   "source": [
    "#postprocessor.confusion_matrix(model_type = \"LSTM\")\n",
    "yhat_train = postprocessor._models[\"Train Yhat\"][idx]\n",
    "yhat_test = postprocessor._models[\"Test Yhat\"][idx]\n"
   ]
  },
  {
   "cell_type": "code",
   "execution_count": null,
   "id": "529cb50c-650d-4b51-83af-40c9cd74ac0c",
   "metadata": {},
   "outputs": [],
   "source": [
    "ytrain = postprocessor._ytrain.values\n",
    "ytest = postprocessor._ytest.values"
   ]
  },
  {
   "cell_type": "code",
   "execution_count": null,
   "id": "11fd140d-5bc4-4c1e-a3d4-38fa18f1e0ac",
   "metadata": {},
   "outputs": [],
   "source": [
    "#ax = plt.gca()"
   ]
  },
  {
   "cell_type": "code",
   "execution_count": null,
   "id": "9b7ef1c8-be74-4289-9fce-6fd74907912d",
   "metadata": {},
   "outputs": [],
   "source": [
    "from sklearn.preprocessing import StandardScaler\n",
    "\n",
    "ytrain = y_scaler.inverse_transform(\n",
    "                ytrain.reshape(-1, ytrain.shape[-1])\n",
    "            )\n",
    "ytest = y_scaler.inverse_transform(ytest.reshape(-1, ytest.shape[-1]))"
   ]
  },
  {
   "cell_type": "code",
   "execution_count": null,
   "id": "e1b110e4-a70e-4335-936a-f7688a4c465b",
   "metadata": {},
   "outputs": [],
   "source": [
    "xtrain.shape"
   ]
  },
  {
   "cell_type": "code",
   "execution_count": null,
   "id": "e5bdd0cf-bd6e-420b-9942-09834d6e1efd",
   "metadata": {},
   "outputs": [],
   "source": [
    "ytrain = np.round(ytrain).astype(int)\n",
    "ytrain.shape"
   ]
  },
  {
   "cell_type": "code",
   "execution_count": null,
   "id": "3d07c52e-c75d-4b47-8980-8a6e9243d727",
   "metadata": {},
   "outputs": [],
   "source": [
    "yhat_train.shape"
   ]
  },
  {
   "cell_type": "code",
   "execution_count": null,
   "id": "e0f51a69-c0fb-4684-8649-ef12a16be064",
   "metadata": {},
   "outputs": [],
   "source": [
    "yhat_train_single = np.argmax(yhat_train, axis=1)"
   ]
  },
  {
   "cell_type": "code",
   "execution_count": null,
   "id": "2adb008a-a929-44dd-b322-206c76f7d196",
   "metadata": {},
   "outputs": [],
   "source": [
    "ytrain_single = np.argmax(ytrain, axis=1)"
   ]
  },
  {
   "cell_type": "code",
   "execution_count": null,
   "id": "20716de7-6c11-4b96-a297-1fd2d1698f9d",
   "metadata": {},
   "outputs": [],
   "source": [
    "yhat_train_single.shape"
   ]
  },
  {
   "cell_type": "code",
   "execution_count": null,
   "id": "e5fca9a8-8867-4427-9e5a-b11eff240952",
   "metadata": {},
   "outputs": [],
   "source": [
    "ytrain_single.shape"
   ]
  },
  {
   "cell_type": "code",
   "execution_count": null,
   "id": "b50ace55",
   "metadata": {},
   "outputs": [],
   "source": [
    "from sklearn.metrics import (\n",
    "    ConfusionMatrixDisplay,\n",
    "    accuracy_score,\n",
    "    confusion_matrix,\n",
    "    f1_score,\n",
    "    mean_absolute_error,\n",
    "    mean_squared_error,\n",
    "    precision_score,\n",
    "    r2_score,\n",
    "    recall_score,\n",
    ")\n",
    "from sklearn.metrics import confusion_matrix\n",
    "\n",
    "train_cm = confusion_matrix(ytrain_single , yhat_train_single)\n",
    "train_disp = ConfusionMatrixDisplay(confusion_matrix=train_cm)\n"
   ]
  },
  {
   "cell_type": "code",
   "execution_count": null,
   "id": "7a2aa42b-de97-431c-95c8-3c8fcd042e3e",
   "metadata": {},
   "outputs": [],
   "source": [
    "train_disp.plot()"
   ]
  },
  {
   "cell_type": "code",
   "execution_count": null,
   "id": "33512ab7-0146-41d7-89ba-8036a3c0d85f",
   "metadata": {},
   "outputs": [],
   "source": [
    "ytest = np.round(ytest).astype(int)\n",
    "ytest.shape"
   ]
  },
  {
   "cell_type": "code",
   "execution_count": null,
   "id": "2e022ed8",
   "metadata": {},
   "outputs": [],
   "source": [
    "yhat_test.shape"
   ]
  },
  {
   "cell_type": "code",
   "execution_count": null,
   "id": "23523676",
   "metadata": {},
   "outputs": [],
   "source": [
    "yhat_test_single = np.argmax(yhat_test, axis=1)"
   ]
  },
  {
   "cell_type": "code",
   "execution_count": null,
   "id": "9aca11bc",
   "metadata": {},
   "outputs": [],
   "source": [
    "ytest_single = np.argmax(ytest, axis=1)"
   ]
  },
  {
   "cell_type": "code",
   "execution_count": null,
   "id": "295035ca",
   "metadata": {},
   "outputs": [],
   "source": [
    "yhat_test_single.shape"
   ]
  },
  {
   "cell_type": "code",
   "execution_count": null,
   "id": "4c0a577e",
   "metadata": {},
   "outputs": [],
   "source": [
    "ytest_single.shape"
   ]
  },
  {
   "cell_type": "code",
   "execution_count": null,
   "id": "3cb92f99",
   "metadata": {
    "scrolled": true
   },
   "outputs": [],
   "source": [
    "test_cm = confusion_matrix(ytest_single, yhat_test_single)\n",
    "test_disp = ConfusionMatrixDisplay(confusion_matrix=test_cm)\n",
    "\n"
   ]
  },
  {
   "cell_type": "code",
   "execution_count": null,
   "id": "324a2e9b",
   "metadata": {},
   "outputs": [],
   "source": [
    "test_disp.plot()"
   ]
  },
  {
   "cell_type": "code",
   "execution_count": null,
   "id": "745db918",
   "metadata": {},
   "outputs": [],
   "source": [
    "##use pyMAISE one"
   ]
  },
  {
   "cell_type": "code",
   "execution_count": null,
   "id": "a2c01b44",
   "metadata": {},
   "outputs": [],
   "source": [
    "xtrain.shape"
   ]
  },
  {
   "cell_type": "code",
   "execution_count": null,
   "id": "99c0f0aa",
   "metadata": {},
   "outputs": [],
   "source": []
  },
  {
   "cell_type": "code",
   "execution_count": null,
   "id": "5cb5de5d",
   "metadata": {},
   "outputs": [],
   "source": []
  },
  {
   "cell_type": "code",
   "execution_count": null,
   "id": "a21cb1c6",
   "metadata": {},
   "outputs": [],
   "source": []
  },
  {
   "cell_type": "code",
   "execution_count": null,
   "id": "311bb600",
   "metadata": {},
   "outputs": [],
   "source": []
  },
  {
   "cell_type": "code",
   "execution_count": null,
   "id": "25434a37",
   "metadata": {},
   "outputs": [],
   "source": []
  },
  {
   "cell_type": "code",
   "execution_count": null,
   "id": "de9f738d",
   "metadata": {},
   "outputs": [],
   "source": []
  },
  {
   "cell_type": "code",
   "execution_count": null,
   "id": "c9a27c18",
   "metadata": {},
   "outputs": [],
   "source": []
  },
  {
   "cell_type": "code",
   "execution_count": null,
   "id": "849cb207",
   "metadata": {},
   "outputs": [],
   "source": []
  },
  {
   "cell_type": "code",
   "execution_count": null,
   "id": "bd35a03d",
   "metadata": {},
   "outputs": [],
   "source": []
  },
  {
   "cell_type": "code",
   "execution_count": null,
   "id": "dbabfde1",
   "metadata": {},
   "outputs": [],
   "source": []
  },
  {
   "cell_type": "code",
   "execution_count": null,
   "id": "d33570f4",
   "metadata": {},
   "outputs": [],
   "source": []
  },
  {
   "cell_type": "code",
   "execution_count": null,
   "id": "2ab93e9e",
   "metadata": {},
   "outputs": [],
   "source": []
  },
  {
   "cell_type": "raw",
   "id": "9737280c-ab03-45e0-810b-d95a78d00451",
   "metadata": {},
   "source": []
  }
 ],
 "metadata": {
  "kernelspec": {
   "display_name": "Python 3 (ipykernel)",
   "language": "python",
   "name": "python3"
  },
  "language_info": {
   "codemirror_mode": {
    "name": "ipython",
    "version": 3
   },
   "file_extension": ".py",
   "mimetype": "text/x-python",
   "name": "python",
   "nbconvert_exporter": "python",
   "pygments_lexer": "ipython3",
   "version": "3.11.0"
  }
 },
 "nbformat": 4,
 "nbformat_minor": 5
}
