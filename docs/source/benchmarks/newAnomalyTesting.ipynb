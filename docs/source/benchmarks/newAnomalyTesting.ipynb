{
 "cells": [
  {
   "cell_type": "code",
   "execution_count": 9,
   "id": "05aaf62e-a223-4c80-a62e-ad9430d4c287",
   "metadata": {},
   "outputs": [
    {
     "name": "stdout",
     "output_type": "stream",
     "text": [
      "The autoreload extension is already loaded. To reload it, use:\n",
      "  %reload_ext autoreload\n"
     ]
    }
   ],
   "source": [
    "%load_ext autoreload\n",
    "%autoreload 2\n",
    "\n",
    "import pickle\n",
    "import matplotlib.pyplot as plt\n",
    "import numpy as np\n",
    "import pickle\n",
    "import pyMAISE as mai\n",
    "\n",
    "\n",
    "\n",
    "pickle_file_path = \"/home/jacc/pyMAISE/docs/source/benchmarks/supporting/anomaly/configs/binary_case_1.pkl\""
   ]
  },
  {
   "cell_type": "code",
   "execution_count": null,
   "id": "9d67e9bc-761d-402a-b3ef-ec5f4f442c65",
   "metadata": {},
   "outputs": [
    {
     "name": "stdout",
     "output_type": "stream",
     "text": [
      "Trial 9 Complete [00h 00m 55s]\n",
      "accuracy_score: 0.5616438356164384\n",
      "\n",
      "Best accuracy_score So Far: 0.6438356164383562\n",
      "Total elapsed time: 00h 13m 04s\n",
      "\n",
      "Search: Running Trial #10\n",
      "\n",
      "Value             |Best Value So Far |Hyperparameter\n",
      "50                |50                |LSTM_input_0_units\n",
      "1                 |0                 |LSTM_num_layers\n",
      "25                |75                |LSTM_output_0_units\n",
      "1                 |2                 |Dense_num_layers\n",
      "0.00049265        |0.00019945        |Adam_learning_rate\n",
      "75                |25                |LSTM_0_units\n",
      "25                |50                |LSTM_1_units\n",
      "75                |75                |LSTM_2_units\n",
      "25                |75                |Dense_0_units\n",
      "128               |128               |batch_size\n",
      "50                |50                |Dense_1_units\n",
      "50                |50                |Dense_2_units\n",
      "\n",
      "Epoch 1/50\n",
      "Epoch 2/50\n"
     ]
    }
   ],
   "source": [
    "%run /home/jacc/pyMAISE/docs/source/benchmarks/supporting/anomaly/binary_case_1.py"
   ]
  },
  {
   "cell_type": "code",
   "execution_count": null,
   "id": "c644dc5a-4530-47d4-bd16-667bfad0df16",
   "metadata": {},
   "outputs": [],
   "source": [
    "with open(pickle_file_path, 'rb') as file:\n",
    "    data = pickle.load(file)"
   ]
  },
  {
   "cell_type": "code",
   "execution_count": null,
   "id": "dce02289-8354-4607-8e39-6e45942e3856",
   "metadata": {},
   "outputs": [],
   "source": [
    "ax = tuner.convergence_plot(model_types=\"LSTM\")\n",
    "ax.set_ylim([0, 1])\n",
    "\n",
    "\n"
   ]
  },
  {
   "cell_type": "code",
   "execution_count": null,
   "id": "a6d356c6-2715-447a-82f1-0ff27dfc8e96",
   "metadata": {},
   "outputs": [],
   "source": [
    "\n",
    "file_path = \"/home/jacc/pyMAISE/docs/source/benchmarks/supporting/anomaly/configs/convergence_plot_lstm.png\"\n",
    "\n",
    "\n",
    "ax.figure.savefig(file_path)\n",
    "\n",
    "\n",
    "plt.close(ax.figure)"
   ]
  },
  {
   "cell_type": "code",
   "execution_count": null,
   "id": "46893900-a3e1-4380-8bd6-fabc8fbd9cdc",
   "metadata": {},
   "outputs": [],
   "source": [
    "ax = tuner.convergence_plot(model_types=\"GRU\")\n",
    "ax.set_ylim([0, 1])"
   ]
  },
  {
   "cell_type": "code",
   "execution_count": null,
   "id": "17f132c5-08fe-4b0e-b088-803acd080964",
   "metadata": {},
   "outputs": [],
   "source": [
    "file_path = \"/home/jacc/pyMAISE/docs/source/benchmarks/supporting/anomaly/configs/convergence_plot_gru.png\"\n",
    "\n",
    "ax.figure.savefig(file_path)\n",
    "\n",
    "plt.close(ax.figure)"
   ]
  },
  {
   "cell_type": "code",
   "execution_count": null,
   "id": "24fa3b3f-e5e1-4ffd-83d9-d58a655c82c5",
   "metadata": {},
   "outputs": [],
   "source": [
    "postprocessor = mai.PostProcessor(\n",
    "    data=(xtrain, xtest, ytrain, ytest), \n",
    "    model_configs=[configs], \n",
    "    new_model_settings={\n",
    "        \"LSTM\": {\"fitting_params\": {\"epochs\": 10}},\n",
    "    },\n",
    "  #  y_scaler=y_scaler,\n",
    ")"
   ]
  },
  {
   "cell_type": "code",
   "execution_count": null,
   "id": "e3845cb4-3fcb-4e1d-be05-876150ea5d8d",
   "metadata": {},
   "outputs": [],
   "source": [
    "postprocessor.metrics()"
   ]
  },
  {
   "cell_type": "code",
   "execution_count": null,
   "id": "757bd006-ec68-4192-be8e-4318e1009351",
   "metadata": {},
   "outputs": [],
   "source": [
    "\n"
   ]
  },
  {
   "cell_type": "code",
   "execution_count": null,
   "id": "7d01f613-dbc2-482f-b5ee-f4cae4388c47",
   "metadata": {},
   "outputs": [],
   "source": []
  },
  {
   "cell_type": "code",
   "execution_count": null,
   "id": "68aea9b0-72d9-4ba0-864c-30f1527e2e41",
   "metadata": {},
   "outputs": [],
   "source": []
  }
 ],
 "metadata": {
  "kernelspec": {
   "display_name": "Python 3 (ipykernel)",
   "language": "python",
   "name": "python3"
  },
  "language_info": {
   "codemirror_mode": {
    "name": "ipython",
    "version": 3
   },
   "file_extension": ".py",
   "mimetype": "text/x-python",
   "name": "python",
   "nbconvert_exporter": "python",
   "pygments_lexer": "ipython3",
   "version": "3.11.0"
  }
 },
 "nbformat": 4,
 "nbformat_minor": 5
}
