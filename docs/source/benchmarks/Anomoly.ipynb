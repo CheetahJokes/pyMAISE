{
 "cells": [
  {
   "cell_type": "code",
   "execution_count": null,
   "id": "7b7a323e",
   "metadata": {},
   "outputs": [],
   "source": [
    "%load_ext autoreload\n",
    "%autoreload 2\n",
    "\n",
    "import time\n",
    "import cv2\n",
    "import numpy as np\n",
    "import matplotlib.pyplot as plt\n",
    "from scipy.stats import uniform, randint\n",
    "from sklearn.preprocessing import MinMaxScaler\n",
    "import xarray as xr\n",
    "from keras.callbacks import EarlyStopping\n",
    "from keras.callbacks import ReduceLROnPlateau\n",
    "#import pymaise \n",
    "print(\"hi\")\n"
   ]
  },
  {
   "cell_type": "code",
   "execution_count": null,
   "id": "a784af7d-d21e-407a-babb-ec5ba23ed795",
   "metadata": {},
   "outputs": [],
   "source": []
  },
  {
   "cell_type": "code",
   "execution_count": null,
   "id": "a727acbe",
   "metadata": {},
   "outputs": [],
   "source": [
    "from pyMAISE.datasets import load_anomaly\n",
    "from pyMAISE.preprocessing import train_test_split, scale_data, one_hot_encode, SplitSequence\n",
    "import pyMAISE as mai"
   ]
  },
  {
   "cell_type": "code",
   "execution_count": null,
   "id": "01b78403",
   "metadata": {},
   "outputs": [],
   "source": [
    "global_settings = mai.init(\n",
    "    problem_type=mai.ProblemType.CLASSIFICATION,   # Define a regression problem\n",
    "    cuda_visible_devices=\"-1\"                  # Use CPU only/ Delete line when run on GPU\n",
    "   # verbosity = 3\n",
    ")"
   ]
  },
  {
   "cell_type": "code",
   "execution_count": null,
   "id": "e6edeed5",
   "metadata": {},
   "outputs": [],
   "source": [
    "# call handler\n",
    "input_path = \"/home/jacc/pyMAISE/pyMAISE/datasets/DTL.npy\"\n",
    "output_path = \"/home/jacc/pyMAISE/pyMAISE/datasets/DTL_labels.npy\"\n",
    "#print(mai.__file__)\n",
    "#False, False, False: WORKS       X.shape = (1077, 4500, 14), Y.shape = (1077, 1)  one hot\n",
    "#False, True, False: WORKS       X.shape = (1077, 4500, 14), Y.shape = (1077, 1)\n",
    "#False, False, True:  ?      X.shape = (1077, 4500, 14), Y.shape = (1077, 4500, 1)\n",
    "#False, True, True:   ?      X.shape = (1077, 4500, 14), Y.shape = (1077, 4500, 1)\n",
    "#True, False, True: WORKS        X.shape = (4846500, 14), Y.shape = (4846500, 1)\n",
    "#True, True, True: WORKS         X.shape = (4846500, 14), Y.shape = (4846500, 1)\n",
    "cond1 = True\n",
    "cond2 = False\n",
    "cond3 = True\n",
    "fract = 0.15\n",
    "#inputs, outputs = load_anomaly([input_path, output_path], cond1, cond2, cond3)\n",
    "inputs, outputs = load_anomaly(input_path, output_path, cond1, cond2, cond3, fract)"
   ]
  },
  {
   "cell_type": "code",
   "execution_count": null,
   "id": "5ec0f9c5",
   "metadata": {},
   "outputs": [],
   "source": [
    "inputs"
   ]
  },
  {
   "cell_type": "code",
   "execution_count": null,
   "id": "6e8eb568",
   "metadata": {},
   "outputs": [],
   "source": [
    "outputs"
   ]
  },
  {
   "cell_type": "code",
   "execution_count": null,
   "id": "8ce8b9a4",
   "metadata": {},
   "outputs": [],
   "source": [
    "outputs = one_hot_encode(outputs)\n",
    "outputs"
   ]
  },
  {
   "cell_type": "code",
   "execution_count": null,
   "id": "f511fcfd",
   "metadata": {},
   "outputs": [],
   "source": [
    "data = xr.concat([inputs, outputs], dim=\"features\")\n",
    "data"
   ]
  },
  {
   "cell_type": "code",
   "execution_count": null,
   "id": "bb4cdfb9",
   "metadata": {},
   "outputs": [],
   "source": [
    "split_sequence = SplitSequence(\n",
    "    10, \n",
    "    1, \n",
    "    0, \n",
    "    sequence_inputs=data.coords[\"features\"].values[:-2], \n",
    "    sequence_outputs=data.coords[\"features\"].values[-2:],\n",
    ")\n",
    "inputs, outputs = split_sequence.split(data)\n"
   ]
  },
  {
   "cell_type": "code",
   "execution_count": null,
   "id": "fbb42e3d",
   "metadata": {},
   "outputs": [],
   "source": [
    "import tensorflow as tf\n",
    "from tensorflow.keras.models import Sequential\n",
    "from tensorflow.keras.layers import Dense, LSTM, Embedding, Dropout\n",
    "from sklearn.model_selection import train_test_split\n",
    "from sklearn.preprocessing import MinMaxScaler"
   ]
  },
  {
   "cell_type": "code",
   "execution_count": null,
   "id": "cece10df",
   "metadata": {},
   "outputs": [],
   "source": [
    "xtrain, xtest, ytrain, ytest = train_test_split(inputs, outputs, test_size=0.3)\n",
    "xtrain, xtest, x_scaler = scale_data(xtrain, xtest, scaler=MinMaxScaler())\n",
    "ytrain, ytest, y_scaler = scale_data(ytrain, ytest, scaler=MinMaxScaler())"
   ]
  },
  {
   "cell_type": "code",
   "execution_count": null,
   "id": "c9b3239f-bad9-442f-8fe0-258c22595915",
   "metadata": {},
   "outputs": [],
   "source": [
    "xtrain = xtrain[:1000]\n",
    "ytrain = ytrain[:1000]\n",
    "xtest = xtest[:250]\n",
    "ytest = ytest[:250]"
   ]
  },
  {
   "cell_type": "code",
   "execution_count": null,
   "id": "d7ff951e-8798-406f-b967-9f4a4152602b",
   "metadata": {},
   "outputs": [],
   "source": [
    "ytrain\n",
    "\n",
    "frequency = np.sum(ytrain, axis=0)\n",
    "\n",
    "# Categories\n",
    "categories = ['Fault', 'NonFault']\n",
    "\n",
    "# Plot\n",
    "plt.bar(categories, frequency)\n",
    "plt.title('Frequency of One-Hot Fault/Non Fault')\n",
    "plt.xlabel('Categories')\n",
    "plt.ylabel('Frequency')\n",
    "plt.ticklabel_format(style='plain', axis='y')\n",
    "plt.show()\n",
    "ytrain"
   ]
  },
  {
   "cell_type": "code",
   "execution_count": null,
   "id": "1daec018",
   "metadata": {},
   "outputs": [],
   "source": [
    "lstm_structure = {\n",
    "    \"LSTM_input\": {\n",
    "        \"units\": 50,\n",
    "        \"return_sequences\": True,\n",
    "        \"input_shape\": (xtrain.shape[1], xtrain.shape[2]),\n",
    "    },\n",
    "    \"LSTM\": {\n",
    "        \"num_layers\": mai.Int(min_value=0, max_value=3),\n",
    "        \"units\": 50,\n",
    "        \"return_sequences\": True,\n",
    "        \"activation\": \"tanh\",\n",
    "        \"recurrent_activation\": \"sigmoid\",\n",
    "    },\n",
    "#check activation to lstm to classification\n",
    "    \"LSTM_output\": {\n",
    "        \"units\": 50,\n",
    "        \"activation\": \"tanh\",\n",
    "        \"recurrent_activation\": \"sigmoid\",\n",
    "\n",
    "        \n",
    "    },\n",
    "    \"Dense\":{\n",
    "         \"num_layers\": mai.Int(min_value=0, max_value=3),\n",
    "         \"units\": mai.Int(min_value=25, max_value=250),\n",
    "         \"activation\": \"sigmoid\", #do research on relu activation CHANGED\n",
    "         \"kernel_initializer\": \"normal\",\n",
    "         \"sublayer\": mai.Choice([\"Dropout_hidden\", \"None\"]),\n",
    "         \"Dropout_hidden\": {\n",
    "         \"rate\": mai.Float(min_value=0.4, max_value=0.6),}\n",
    "    },\n",
    "    \"Dense_output\": {\n",
    "        \"units\": ytrain.shape[1],\n",
    "        \"activation\": \"softmax\",\n",
    "    },\n",
    "}\n",
    "#change nodes in each layer, not in the output\n",
    "fitting = {\n",
    "    \"batch_size\":128,# mai.Choice([16, 32, 64]), changed dfrom 128\n",
    "    \"epochs\": 5,\n",
    "    \"validation_split\":0.15,\n",
    "    \"callbacks\": [\n",
    "        ReduceLROnPlateau(\n",
    "            monitor='accuracy',\n",
    "            factor=0.8,\n",
    "            patience=2,\n",
    "            min_lr=0,\n",
    "            verbose=1,\n",
    "        ),\n",
    "        EarlyStopping(\n",
    "            monitor=\"accuracy\",\n",
    "            patience=3,\n",
    "        )\n",
    "    ]\n",
    "}\n",
    "adam = {\n",
    "    \"learning_rate\": mai.Float(min_value=0.00001, max_value=0.001),\n",
    "   # \"clipnorm\": mai.Float(min_value=0.8, max_value=1.2),\n",
    "  #  \"clipvalue\": mai.Float(min_value=0.3, max_value=0.7),\n",
    "}\n",
    "compiling = {\n",
    "    \"loss\": \"binary_crossentropy\",#figure out accuracy on keras keras lstm on classification\n",
    "    \"metrics\": [\"accuracy\"],\n",
    "}\n",
    "\n",
    "model_settings = {\n",
    "    \"models\": [\"LSTM\"],\n",
    "    \"LSTM\": {\n",
    "        \"structural_params\": lstm_structure,\n",
    "        \"optimizer\": \"Adam\",\n",
    "        \"Adam\": adam,\n",
    "        \"compile_params\": compiling,\n",
    "        \"fitting_params\": fitting,\n",
    "    },\n",
    "}\n",
    "tuner = mai.Tuner(xtrain, ytrain, model_settings=model_settings)"
   ]
  },
  {
   "cell_type": "code",
   "execution_count": null,
   "id": "feca9992-46b7-49f8-8a2d-e7a856479619",
   "metadata": {},
   "outputs": [],
   "source": [
    "lstm_structure"
   ]
  },
  {
   "cell_type": "code",
   "execution_count": null,
   "id": "d655ce0b-23df-491e-a792-52b0c594fe14",
   "metadata": {},
   "outputs": [],
   "source": [
    "\n",
    "start = time.time()\n",
    "\n",
    "bayesian_search_configs = tuner.nn_bayesian_search(\n",
    "    objective=\"accuracy_score\",\n",
    "    max_trials=5,\n",
    "    cv=5,\n",
    ")\n",
    "\n",
    "print(\"Hyperparameter tuning took \" + str((time.time() - start) / 60) + \" minutes to process.\")"
   ]
  },
  {
   "cell_type": "code",
   "execution_count": null,
   "id": "cdd9c88a-91ff-4040-909a-d1e81cdaeb21",
   "metadata": {},
   "outputs": [],
   "source": [
    "xtrain"
   ]
  },
  {
   "cell_type": "code",
   "execution_count": null,
   "id": "9fa33b9b-28ba-45a6-839e-dd65df004812",
   "metadata": {},
   "outputs": [],
   "source": [
    "ytrain.shape"
   ]
  },
  {
   "cell_type": "code",
   "execution_count": null,
   "id": "357f3f9b-e398-47ea-bc17-abacdc982ed1",
   "metadata": {},
   "outputs": [],
   "source": [
    "postprocessor = mai.PostProcessor(\n",
    "    data=(xtrain, xtest, ytrain, ytest), \n",
    "    model_configs=[bayesian_search_configs], \n",
    "    new_model_settings={\n",
    "        \"FNN\": {\"fitting_params\": {\"epochs\": 10}},\n",
    "    },\n",
    "  #  y_scaler=y_scaler,\n",
    ")"
   ]
  },
  {
   "cell_type": "code",
   "execution_count": null,
   "id": "c3316356",
   "metadata": {},
   "outputs": [],
   "source": [
    "postprocessor.metrics()"
   ]
  },
  {
   "cell_type": "code",
   "execution_count": null,
   "id": "5acd3bf8-839a-4815-b9ae-bea5aed288c5",
   "metadata": {},
   "outputs": [],
   "source": [
    "for model in [ \"LSTM\"]:\n",
    "    for key, value in postprocessor.get_params(model_type=model).to_dict().items():\n",
    "        print(f\"{key}: {value[0]}\")\n",
    "    print()"
   ]
  },
  {
   "cell_type": "code",
   "execution_count": null,
   "id": "1a6146e0",
   "metadata": {},
   "outputs": [],
   "source": [
    "idx = postprocessor._get_idx()\n",
    "idx"
   ]
  },
  {
   "cell_type": "code",
   "execution_count": null,
   "id": "2fc9383e-a60c-49be-8e77-5440303bb0fc",
   "metadata": {},
   "outputs": [],
   "source": [
    "#postprocessor._models()\n",
    "yhat_test = postprocessor._models[\"Test Yhat\"][idx]"
   ]
  },
  {
   "cell_type": "code",
   "execution_count": null,
   "id": "7e24637d-ed75-4baa-be27-3b8bb377c300",
   "metadata": {},
   "outputs": [],
   "source": [
    "postprocessor.get_model()"
   ]
  },
  {
   "cell_type": "code",
   "execution_count": null,
   "id": "9818591a-bee9-4057-aea4-7eefd6b1dbe4",
   "metadata": {},
   "outputs": [],
   "source": [
    " yhat_test"
   ]
  },
  {
   "cell_type": "code",
   "execution_count": null,
   "id": "9731fd64-ffcf-4647-aeaf-cef38b054396",
   "metadata": {},
   "outputs": [],
   "source": [
    "#postprocessor.confusion_matrix(model_type = \"LSTM\")\n",
    "yhat_train = postprocessor._models[\"Train Yhat\"][idx]\n",
    "yhat_test = postprocessor._models[\"Test Yhat\"][idx]\n"
   ]
  },
  {
   "cell_type": "code",
   "execution_count": null,
   "id": "529cb50c-650d-4b51-83af-40c9cd74ac0c",
   "metadata": {},
   "outputs": [],
   "source": [
    "ytrain = postprocessor._ytrain.values\n",
    "ytest = postprocessor._ytest.values"
   ]
  },
  {
   "cell_type": "code",
   "execution_count": null,
   "id": "11fd140d-5bc4-4c1e-a3d4-38fa18f1e0ac",
   "metadata": {},
   "outputs": [],
   "source": [
    "ax = plt.gca()"
   ]
  },
  {
   "cell_type": "code",
   "execution_count": null,
   "id": "9b7ef1c8-be74-4289-9fce-6fd74907912d",
   "metadata": {},
   "outputs": [],
   "source": [
    "from sklearn.preprocessing import StandardScaler\n",
    "\n",
    "ytrain = y_scaler.inverse_transform(\n",
    "                ytrain.reshape(-1, ytrain.shape[-1])\n",
    "            )\n",
    "ytest = y_scaler.inverse_transform(ytest.reshape(-1, ytest.shape[-1]))"
   ]
  },
  {
   "cell_type": "code",
   "execution_count": null,
   "id": "e1b110e4-a70e-4335-936a-f7688a4c465b",
   "metadata": {},
   "outputs": [],
   "source": []
  },
  {
   "cell_type": "code",
   "execution_count": null,
   "id": "e5bdd0cf-bd6e-420b-9942-09834d6e1efd",
   "metadata": {},
   "outputs": [],
   "source": [
    "ytrain = np.round(ytrain).astype(int)\n",
    "ytrain.shape"
   ]
  },
  {
   "cell_type": "code",
   "execution_count": null,
   "id": "3d07c52e-c75d-4b47-8980-8a6e9243d727",
   "metadata": {},
   "outputs": [],
   "source": [
    "yhat_train.shape"
   ]
  },
  {
   "cell_type": "code",
   "execution_count": null,
   "id": "e0f51a69-c0fb-4684-8649-ef12a16be064",
   "metadata": {},
   "outputs": [],
   "source": [
    "yhat_train_single = np.argmax(yhat_train, axis=1)"
   ]
  },
  {
   "cell_type": "code",
   "execution_count": null,
   "id": "2adb008a-a929-44dd-b322-206c76f7d196",
   "metadata": {},
   "outputs": [],
   "source": [
    "ytrain_single = np.argmax(ytrain, axis=1)"
   ]
  },
  {
   "cell_type": "code",
   "execution_count": null,
   "id": "20716de7-6c11-4b96-a297-1fd2d1698f9d",
   "metadata": {},
   "outputs": [],
   "source": [
    "yhat_train_single.shape"
   ]
  },
  {
   "cell_type": "code",
   "execution_count": null,
   "id": "e5fca9a8-8867-4427-9e5a-b11eff240952",
   "metadata": {},
   "outputs": [],
   "source": [
    "ytrain_single.shape"
   ]
  },
  {
   "cell_type": "code",
   "execution_count": null,
   "id": "b50ace55",
   "metadata": {},
   "outputs": [],
   "source": [
    "from sklearn.metrics import (\n",
    "    ConfusionMatrixDisplay,\n",
    "    accuracy_score,\n",
    "    confusion_matrix,\n",
    "    f1_score,\n",
    "    mean_absolute_error,\n",
    "    mean_squared_error,\n",
    "    precision_score,\n",
    "    r2_score,\n",
    "    recall_score,\n",
    ")\n",
    "from sklearn.metrics import confusion_matrix\n",
    "\n",
    "train_cm = confusion_matrix(ytrain_single , yhat_train_single)\n",
    "train_disp = ConfusionMatrixDisplay(confusion_matrix=train_cm)\n"
   ]
  },
  {
   "cell_type": "code",
   "execution_count": null,
   "id": "7a2aa42b-de97-431c-95c8-3c8fcd042e3e",
   "metadata": {},
   "outputs": [],
   "source": [
    "train_disp.plot()"
   ]
  },
  {
   "cell_type": "code",
   "execution_count": null,
   "id": "33512ab7-0146-41d7-89ba-8036a3c0d85f",
   "metadata": {},
   "outputs": [],
   "source": [
    "ytest = np.round(ytest).astype(int)\n",
    "ytest.shape"
   ]
  },
  {
   "cell_type": "code",
   "execution_count": null,
   "id": "2e022ed8",
   "metadata": {},
   "outputs": [],
   "source": [
    "yhat_test.shape"
   ]
  },
  {
   "cell_type": "code",
   "execution_count": null,
   "id": "23523676",
   "metadata": {},
   "outputs": [],
   "source": [
    "yhat_test_single = np.argmax(yhat_test, axis=1)"
   ]
  },
  {
   "cell_type": "code",
   "execution_count": null,
   "id": "9aca11bc",
   "metadata": {},
   "outputs": [],
   "source": [
    "ytest_single = np.argmax(ytest, axis=1)"
   ]
  },
  {
   "cell_type": "code",
   "execution_count": null,
   "id": "295035ca",
   "metadata": {},
   "outputs": [],
   "source": [
    "yhat_test_single.shape"
   ]
  },
  {
   "cell_type": "code",
   "execution_count": null,
   "id": "4c0a577e",
   "metadata": {},
   "outputs": [],
   "source": [
    "ytest_single.shape"
   ]
  },
  {
   "cell_type": "code",
   "execution_count": null,
   "id": "3cb92f99",
   "metadata": {
    "scrolled": true
   },
   "outputs": [],
   "source": [
    "test_cm = confusion_matrix(ytest_single, yhat_test_single)\n",
    "test_disp = ConfusionMatrixDisplay(confusion_matrix=test_cm)\n",
    "\n"
   ]
  },
  {
   "cell_type": "code",
   "execution_count": null,
   "id": "324a2e9b",
   "metadata": {},
   "outputs": [],
   "source": [
    "test_disp.plot()"
   ]
  },
  {
   "cell_type": "code",
   "execution_count": null,
   "id": "745db918",
   "metadata": {},
   "outputs": [],
   "source": []
  },
  {
   "cell_type": "code",
   "execution_count": null,
   "id": "a2c01b44",
   "metadata": {},
   "outputs": [],
   "source": []
  },
  {
   "cell_type": "code",
   "execution_count": null,
   "id": "99c0f0aa",
   "metadata": {},
   "outputs": [],
   "source": []
  },
  {
   "cell_type": "code",
   "execution_count": null,
   "id": "5cb5de5d",
   "metadata": {},
   "outputs": [],
   "source": []
  },
  {
   "cell_type": "code",
   "execution_count": null,
   "id": "a21cb1c6",
   "metadata": {},
   "outputs": [],
   "source": []
  },
  {
   "cell_type": "code",
   "execution_count": null,
   "id": "311bb600",
   "metadata": {},
   "outputs": [],
   "source": []
  },
  {
   "cell_type": "code",
   "execution_count": null,
   "id": "25434a37",
   "metadata": {},
   "outputs": [],
   "source": []
  },
  {
   "cell_type": "code",
   "execution_count": null,
   "id": "de9f738d",
   "metadata": {},
   "outputs": [],
   "source": []
  },
  {
   "cell_type": "code",
   "execution_count": null,
   "id": "c9a27c18",
   "metadata": {},
   "outputs": [],
   "source": []
  },
  {
   "cell_type": "code",
   "execution_count": null,
   "id": "849cb207",
   "metadata": {},
   "outputs": [],
   "source": []
  },
  {
   "cell_type": "code",
   "execution_count": null,
   "id": "bd35a03d",
   "metadata": {},
   "outputs": [],
   "source": []
  },
  {
   "cell_type": "code",
   "execution_count": null,
   "id": "dbabfde1",
   "metadata": {},
   "outputs": [],
   "source": []
  },
  {
   "cell_type": "code",
   "execution_count": null,
   "id": "d33570f4",
   "metadata": {},
   "outputs": [],
   "source": []
  },
  {
   "cell_type": "code",
   "execution_count": null,
   "id": "2ab93e9e",
   "metadata": {},
   "outputs": [],
   "source": []
  },
  {
   "cell_type": "raw",
   "id": "9737280c-ab03-45e0-810b-d95a78d00451",
   "metadata": {},
   "source": []
  }
 ],
 "metadata": {
  "kernelspec": {
   "display_name": "Python 3 (ipykernel)",
   "language": "python",
   "name": "python3"
  },
  "language_info": {
   "codemirror_mode": {
    "name": "ipython",
    "version": 3
   },
   "file_extension": ".py",
   "mimetype": "text/x-python",
   "name": "python",
   "nbconvert_exporter": "python",
   "pygments_lexer": "ipython3",
   "version": "3.11.0"
  }
 },
 "nbformat": 4,
 "nbformat_minor": 5
}
