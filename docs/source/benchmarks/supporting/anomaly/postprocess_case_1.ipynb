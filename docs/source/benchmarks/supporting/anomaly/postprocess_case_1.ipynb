{
 "cells": [
  {
   "cell_type": "code",
   "execution_count": 1,
   "id": "4377953c-10c8-44e9-9b5b-61eb24228e5f",
   "metadata": {},
   "outputs": [
    {
     "name": "stderr",
     "output_type": "stream",
     "text": [
      "2024-05-24 20:25:05.982008: E external/local_xla/xla/stream_executor/cuda/cuda_dnn.cc:9261] Unable to register cuDNN factory: Attempting to register factory for plugin cuDNN when one has already been registered\n",
      "2024-05-24 20:25:05.982042: E external/local_xla/xla/stream_executor/cuda/cuda_fft.cc:607] Unable to register cuFFT factory: Attempting to register factory for plugin cuFFT when one has already been registered\n",
      "2024-05-24 20:25:05.983489: E external/local_xla/xla/stream_executor/cuda/cuda_blas.cc:1515] Unable to register cuBLAS factory: Attempting to register factory for plugin cuBLAS when one has already been registered\n",
      "2024-05-24 20:25:05.991281: I tensorflow/core/platform/cpu_feature_guard.cc:182] This TensorFlow binary is optimized to use available CPU instructions in performance-critical operations.\n",
      "To enable the following instructions: AVX2 FMA, in other operations, rebuild TensorFlow with the appropriate compiler flags.\n",
      "2024-05-24 20:25:06.748750: W tensorflow/compiler/tf2tensorrt/utils/py_utils.cc:38] TF-TRT Warning: Could not find TensorRT\n",
      "2024-05-24 20:25:08.382890: I external/local_xla/xla/stream_executor/cuda/cuda_executor.cc:901] successful NUMA node read from SysFS had negative value (-1), but there must be at least one NUMA node, so returning NUMA node zero. See more at https://github.com/torvalds/linux/blob/v6.0/Documentation/ABI/testing/sysfs-bus-pci#L344-L355\n",
      "2024-05-24 20:25:08.424412: I external/local_xla/xla/stream_executor/cuda/cuda_executor.cc:901] successful NUMA node read from SysFS had negative value (-1), but there must be at least one NUMA node, so returning NUMA node zero. See more at https://github.com/torvalds/linux/blob/v6.0/Documentation/ABI/testing/sysfs-bus-pci#L344-L355\n",
      "2024-05-24 20:25:08.424711: I external/local_xla/xla/stream_executor/cuda/cuda_executor.cc:901] successful NUMA node read from SysFS had negative value (-1), but there must be at least one NUMA node, so returning NUMA node zero. See more at https://github.com/torvalds/linux/blob/v6.0/Documentation/ABI/testing/sysfs-bus-pci#L344-L355\n"
     ]
    },
    {
     "name": "stdout",
     "output_type": "stream",
     "text": [
      "Num GPUs Available:  1\n",
      "xtrain shape: (220, 4500, 14)\n",
      "xtest shape: (95, 4500, 14)\n",
      "ytrain shape: (220, 2)\n",
      "ytest shape: (95, 2)\n"
     ]
    },
    {
     "name": "stderr",
     "output_type": "stream",
     "text": [
      "2024-05-24 20:25:08.650312: I external/local_xla/xla/stream_executor/cuda/cuda_executor.cc:901] successful NUMA node read from SysFS had negative value (-1), but there must be at least one NUMA node, so returning NUMA node zero. See more at https://github.com/torvalds/linux/blob/v6.0/Documentation/ABI/testing/sysfs-bus-pci#L344-L355\n",
      "2024-05-24 20:25:08.650625: I external/local_xla/xla/stream_executor/cuda/cuda_executor.cc:901] successful NUMA node read from SysFS had negative value (-1), but there must be at least one NUMA node, so returning NUMA node zero. See more at https://github.com/torvalds/linux/blob/v6.0/Documentation/ABI/testing/sysfs-bus-pci#L344-L355\n",
      "2024-05-24 20:25:08.650864: I external/local_xla/xla/stream_executor/cuda/cuda_executor.cc:901] successful NUMA node read from SysFS had negative value (-1), but there must be at least one NUMA node, so returning NUMA node zero. See more at https://github.com/torvalds/linux/blob/v6.0/Documentation/ABI/testing/sysfs-bus-pci#L344-L355\n",
      "2024-05-24 20:25:08.781350: I external/local_xla/xla/stream_executor/cuda/cuda_executor.cc:901] successful NUMA node read from SysFS had negative value (-1), but there must be at least one NUMA node, so returning NUMA node zero. See more at https://github.com/torvalds/linux/blob/v6.0/Documentation/ABI/testing/sysfs-bus-pci#L344-L355\n",
      "2024-05-24 20:25:08.781636: I external/local_xla/xla/stream_executor/cuda/cuda_executor.cc:901] successful NUMA node read from SysFS had negative value (-1), but there must be at least one NUMA node, so returning NUMA node zero. See more at https://github.com/torvalds/linux/blob/v6.0/Documentation/ABI/testing/sysfs-bus-pci#L344-L355\n",
      "2024-05-24 20:25:08.781894: I external/local_xla/xla/stream_executor/cuda/cuda_executor.cc:901] successful NUMA node read from SysFS had negative value (-1), but there must be at least one NUMA node, so returning NUMA node zero. See more at https://github.com/torvalds/linux/blob/v6.0/Documentation/ABI/testing/sysfs-bus-pci#L344-L355\n",
      "2024-05-24 20:25:08.782088: I tensorflow/core/common_runtime/gpu/gpu_device.cc:1929] Created device /job:localhost/replica:0/task:0/device:GPU:0 with 21349 MB memory:  -> device: 0, name: NVIDIA GeForce RTX 4090, pci bus id: 0000:61:00.0, compute capability: 8.9\n"
     ]
    },
    {
     "name": "stdout",
     "output_type": "stream",
     "text": [
      "Epoch 1/2\n"
     ]
    },
    {
     "name": "stderr",
     "output_type": "stream",
     "text": [
      "2024-05-24 20:25:14.644046: I external/local_xla/xla/stream_executor/cuda/cuda_dnn.cc:454] Loaded cuDNN version 8907\n",
      "2024-05-24 20:25:15.317299: I external/local_xla/xla/service/service.cc:168] XLA service 0x704e70e744d0 initialized for platform CUDA (this does not guarantee that XLA will be used). Devices:\n",
      "2024-05-24 20:25:15.317330: I external/local_xla/xla/service/service.cc:176]   StreamExecutor device (0): NVIDIA GeForce RTX 4090, Compute Capability 8.9\n",
      "2024-05-24 20:25:15.323204: I tensorflow/compiler/mlir/tensorflow/utils/dump_mlir_util.cc:269] disabling MLIR crash reproducer, set env var `MLIR_CRASH_REPRODUCER_DIRECTORY` to enable.\n",
      "WARNING: All log messages before absl::InitializeLog() is called are written to STDERR\n",
      "I0000 00:00:1716596715.430199 1091553 device_compiler.h:186] Compiled cluster using XLA!  This line is logged at most once for the lifetime of the process.\n"
     ]
    },
    {
     "name": "stdout",
     "output_type": "stream",
     "text": [
      "Epoch 2/2\n",
      "7/7 [==============================] - 2s 150ms/step\n",
      "3/3 [==============================] - 0s 160ms/step\n",
      "WARNING:tensorflow:Layer LSTM_1 will not use cuDNN kernels since it doesn't meet the criteria. It will use a generic GPU kernel as fallback when running on GPU.\n",
      "Epoch 1/2\n",
      "Epoch 2/2\n",
      "7/7 [==============================] - 6s 702ms/step\n",
      "3/3 [==============================] - 2s 719ms/step\n",
      "Epoch 1/2\n",
      "Epoch 2/2\n",
      "7/7 [==============================] - 2s 155ms/step\n",
      "3/3 [==============================] - 1s 157ms/step\n",
      "WARNING:tensorflow:Layer LSTM_1 will not use cuDNN kernels since it doesn't meet the criteria. It will use a generic GPU kernel as fallback when running on GPU.\n",
      "Epoch 1/2\n",
      "Epoch 2/2\n",
      "7/7 [==============================] - 6s 697ms/step\n",
      "3/3 [==============================] - 2s 674ms/step\n",
      "  Model Types                           Parameter Configurations  \\\n",
      "3         GRU  {'LSTM_input_0_units': 43, 'LSTM_num_layers': ...   \n",
      "2         GRU  {'LSTM_input_0_units': 70, 'LSTM_num_layers': ...   \n",
      "0        LSTM  {'LSTM_input_0_units': 70, 'LSTM_num_layers': ...   \n",
      "1        LSTM  {'LSTM_input_0_units': 43, 'LSTM_num_layers': ...   \n",
      "\n",
      "   Train Accuracy  Train Recall  Train Precision  Train F1  Test Accuracy  \\\n",
      "3        0.590909      0.590909         0.590909  0.590909       0.631579   \n",
      "2        0.509091      0.509091         0.509091  0.509091       0.505263   \n",
      "0        0.495455      0.495455         0.495455  0.495455       0.494737   \n",
      "1        0.495455      0.495455         0.495455  0.495455       0.494737   \n",
      "\n",
      "   Test Recall  Test Precision   Test F1  \n",
      "3     0.631579        0.631579  0.631579  \n",
      "2     0.505263        0.505263  0.505263  \n",
      "0     0.494737        0.494737  0.494737  \n",
      "1     0.494737        0.494737  0.494737  \n",
      "Model Types: LSTM\n",
      "LSTM_input_0_units: 70\n",
      "LSTM_num_layers: 2\n",
      "LSTM_output_0_units: 54\n",
      "LSTM_output_0_activation: tanh\n",
      "Dense_num_layers: 0\n",
      "Adam_learning_rate: 8.727478338514094e-05\n",
      "LSTM_0_units: 25\n",
      "LSTM_0_activation: tanh\n",
      "LSTM_1_units: 25\n",
      "LSTM_1_activation: tanh\n",
      "batch_size: 32\n",
      "\n"
     ]
    }
   ],
   "source": [
    "\"\"\"\n",
    "postprocess_case_1.py\n",
    "\n",
    "Postprocessing script which you can adopt in your benchmark.\n",
    "I recommend increasing the number of epochs you train the final\n",
    "models to.\n",
    "\"\"\"\n",
    "import pickle\n",
    "\n",
    "import pyMAISE as mai\n",
    "import settings\n",
    "from preprocessing import load_anomaly_data\n",
    "\n",
    "# Initialize pyMAISE\n",
    "mai.init(\n",
    "    problem_type=settings.problem_type,\n",
    "    verbosity=settings.verbosity,\n",
    "    random_state=settings.random_state,\n",
    "    cuda_visible_devices=\"1\",  # Use GPU 1\n",
    ")\n",
    "\n",
    "# Load training/testing data\n",
    "xtrain, xtest, ytrain, ytest, xscaler = load_anomaly_data(\n",
    "    stack_series=False,\n",
    "    multiclass=False,\n",
    "    test_size=settings.test_size,\n",
    "    non_faulty_frac=settings.non_faulty_frac,\n",
    "    timestep_step=1,\n",
    ")\n",
    "\n",
    "# Read pickled configs\n",
    "with open(\"/home/jacc/pyMAISE/docs/source/benchmarks/supporting/anomaly/configs/binary_case_1.pkl\", \"rb\") as f:\n",
    "    configs = pickle.load(f)\n",
    "\n",
    "# Model postprocessing\n",
    "postprocessor = mai.PostProcessor(\n",
    "    data=(xtrain, xtest, ytrain, ytest),\n",
    "    model_configs=[configs],\n",
    "    new_model_settings={\n",
    "        \"LSTM\": {\"fitting_params\": {\"epochs\": 2}},\n",
    "    },\n",
    ")\n",
    "\n",
    "print(postprocessor.metrics())\n",
    "\n",
    "for model in [\"LSTM\"]:\n",
    "    for key, value in postprocessor.get_params(model_type=model).to_dict().items():\n",
    "        print(f\"{key}: {value[0]}\")\n",
    "    print()"
   ]
  },
  {
   "cell_type": "code",
   "execution_count": 2,
   "id": "03aa0c25-2614-4bbd-8adf-6f40aaafca68",
   "metadata": {},
   "outputs": [
    {
     "name": "stdout",
     "output_type": "stream",
     "text": [
      "Epoch 1/2\n",
      "WARNING:tensorflow:5 out of the last 13 calls to <function Model.make_test_function.<locals>.test_function at 0x704ee0338d60> triggered tf.function retracing. Tracing is expensive and the excessive number of tracings could be due to (1) creating @tf.function repeatedly in a loop, (2) passing tensors with different shapes, (3) passing Python objects instead of tensors. For (1), please define your @tf.function outside of the loop. For (2), @tf.function has reduce_retracing=True option that can avoid unnecessary retracing. For (3), please refer to https://www.tensorflow.org/guide/function#controlling_retracing and https://www.tensorflow.org/api_docs/python/tf/function for  more details.\n",
      "Epoch 2/2\n",
      "7/7 [==============================] - 2s 161ms/step\n",
      "3/3 [==============================] - 1s 163ms/step\n",
      "WARNING:tensorflow:Layer LSTM_1 will not use cuDNN kernels since it doesn't meet the criteria. It will use a generic GPU kernel as fallback when running on GPU.\n",
      "Epoch 1/2\n",
      "Epoch 2/2\n",
      "7/7 [==============================] - 6s 696ms/step\n",
      "3/3 [==============================] - 2s 699ms/step\n",
      "Epoch 1/2\n",
      "WARNING:tensorflow:5 out of the last 13 calls to <function Model.make_test_function.<locals>.test_function at 0x704e6c4b2980> triggered tf.function retracing. Tracing is expensive and the excessive number of tracings could be due to (1) creating @tf.function repeatedly in a loop, (2) passing tensors with different shapes, (3) passing Python objects instead of tensors. For (1), please define your @tf.function outside of the loop. For (2), @tf.function has reduce_retracing=True option that can avoid unnecessary retracing. For (3), please refer to https://www.tensorflow.org/guide/function#controlling_retracing and https://www.tensorflow.org/api_docs/python/tf/function for  more details.\n",
      "Epoch 2/2\n",
      "7/7 [==============================] - 2s 157ms/step\n",
      "3/3 [==============================] - 0s 146ms/step\n",
      "WARNING:tensorflow:Layer LSTM_1 will not use cuDNN kernels since it doesn't meet the criteria. It will use a generic GPU kernel as fallback when running on GPU.\n",
      "Epoch 1/2\n",
      "Epoch 2/2\n",
      "7/7 [==============================] - 6s 718ms/step\n",
      "3/3 [==============================] - 2s 672ms/step\n",
      "  Model Types                           Parameter Configurations  \\\n",
      "0        LSTM  {'LSTM_input_0_units': 70, 'LSTM_num_layers': ...   \n",
      "1        LSTM  {'LSTM_input_0_units': 43, 'LSTM_num_layers': ...   \n",
      "2         GRU  {'LSTM_input_0_units': 70, 'LSTM_num_layers': ...   \n",
      "3         GRU  {'LSTM_input_0_units': 43, 'LSTM_num_layers': ...   \n",
      "\n",
      "   Train Accuracy  Train Recall  Train Precision  Train F1  Test Accuracy  \\\n",
      "0        0.504545      0.504545         0.504545  0.504545       0.505263   \n",
      "1        0.504545      0.504545         0.504545  0.504545       0.505263   \n",
      "2        0.495455      0.495455         0.495455  0.495455       0.494737   \n",
      "3        0.495455      0.495455         0.495455  0.495455       0.494737   \n",
      "\n",
      "   Test Recall  Test Precision   Test F1  \n",
      "0     0.505263        0.505263  0.505263  \n",
      "1     0.505263        0.505263  0.505263  \n",
      "2     0.494737        0.494737  0.494737  \n",
      "3     0.494737        0.494737  0.494737  \n",
      "Model Types: GRU\n",
      "LSTM_input_0_units: 70\n",
      "LSTM_num_layers: 2\n",
      "LSTM_output_0_units: 54\n",
      "LSTM_output_0_activation: tanh\n",
      "Dense_num_layers: 0\n",
      "Adam_learning_rate: 8.727478338514094e-05\n",
      "LSTM_0_units: 25\n",
      "LSTM_0_activation: tanh\n",
      "LSTM_1_units: 25\n",
      "LSTM_1_activation: tanh\n",
      "batch_size: 32\n",
      "\n"
     ]
    }
   ],
   "source": [
    "postprocessor = mai.PostProcessor(\n",
    "    data=(xtrain, xtest, ytrain, ytest),\n",
    "    model_configs=[configs],\n",
    "    new_model_settings={\n",
    "        \"GRU\": {\"fitting_params\": {\"epochs\": 2}},\n",
    "    },\n",
    ")\n",
    "\n",
    "print(postprocessor.metrics())\n",
    "\n",
    "for model in [\"GRU\"]:\n",
    "    for key, value in postprocessor.get_params(model_type=model).to_dict().items():\n",
    "        print(f\"{key}: {value[0]}\")\n",
    "    print()"
   ]
  },
  {
   "cell_type": "code",
   "execution_count": 3,
   "id": "d1bad4af-536d-48bb-af68-1a64765d0992",
   "metadata": {},
   "outputs": [
    {
     "data": {
      "text/html": [
       "<div>\n",
       "<style scoped>\n",
       "    .dataframe tbody tr th:only-of-type {\n",
       "        vertical-align: middle;\n",
       "    }\n",
       "\n",
       "    .dataframe tbody tr th {\n",
       "        vertical-align: top;\n",
       "    }\n",
       "\n",
       "    .dataframe thead th {\n",
       "        text-align: right;\n",
       "    }\n",
       "</style>\n",
       "<table border=\"1\" class=\"dataframe\">\n",
       "  <thead>\n",
       "    <tr style=\"text-align: right;\">\n",
       "      <th></th>\n",
       "      <th>Model Types</th>\n",
       "      <th>Parameter Configurations</th>\n",
       "      <th>Train Accuracy</th>\n",
       "      <th>Train Recall</th>\n",
       "      <th>Train Precision</th>\n",
       "      <th>Train F1</th>\n",
       "      <th>Test Accuracy</th>\n",
       "      <th>Test Recall</th>\n",
       "      <th>Test Precision</th>\n",
       "      <th>Test F1</th>\n",
       "    </tr>\n",
       "  </thead>\n",
       "  <tbody>\n",
       "    <tr>\n",
       "      <th>0</th>\n",
       "      <td>LSTM</td>\n",
       "      <td>{'LSTM_input_0_units': 70, 'LSTM_num_layers': ...</td>\n",
       "      <td>0.504545</td>\n",
       "      <td>0.504545</td>\n",
       "      <td>0.504545</td>\n",
       "      <td>0.504545</td>\n",
       "      <td>0.505263</td>\n",
       "      <td>0.505263</td>\n",
       "      <td>0.505263</td>\n",
       "      <td>0.505263</td>\n",
       "    </tr>\n",
       "    <tr>\n",
       "      <th>1</th>\n",
       "      <td>LSTM</td>\n",
       "      <td>{'LSTM_input_0_units': 43, 'LSTM_num_layers': ...</td>\n",
       "      <td>0.504545</td>\n",
       "      <td>0.504545</td>\n",
       "      <td>0.504545</td>\n",
       "      <td>0.504545</td>\n",
       "      <td>0.505263</td>\n",
       "      <td>0.505263</td>\n",
       "      <td>0.505263</td>\n",
       "      <td>0.505263</td>\n",
       "    </tr>\n",
       "    <tr>\n",
       "      <th>2</th>\n",
       "      <td>GRU</td>\n",
       "      <td>{'LSTM_input_0_units': 70, 'LSTM_num_layers': ...</td>\n",
       "      <td>0.495455</td>\n",
       "      <td>0.495455</td>\n",
       "      <td>0.495455</td>\n",
       "      <td>0.495455</td>\n",
       "      <td>0.494737</td>\n",
       "      <td>0.494737</td>\n",
       "      <td>0.494737</td>\n",
       "      <td>0.494737</td>\n",
       "    </tr>\n",
       "    <tr>\n",
       "      <th>3</th>\n",
       "      <td>GRU</td>\n",
       "      <td>{'LSTM_input_0_units': 43, 'LSTM_num_layers': ...</td>\n",
       "      <td>0.495455</td>\n",
       "      <td>0.495455</td>\n",
       "      <td>0.495455</td>\n",
       "      <td>0.495455</td>\n",
       "      <td>0.494737</td>\n",
       "      <td>0.494737</td>\n",
       "      <td>0.494737</td>\n",
       "      <td>0.494737</td>\n",
       "    </tr>\n",
       "  </tbody>\n",
       "</table>\n",
       "</div>"
      ],
      "text/plain": [
       "  Model Types                           Parameter Configurations  \\\n",
       "0        LSTM  {'LSTM_input_0_units': 70, 'LSTM_num_layers': ...   \n",
       "1        LSTM  {'LSTM_input_0_units': 43, 'LSTM_num_layers': ...   \n",
       "2         GRU  {'LSTM_input_0_units': 70, 'LSTM_num_layers': ...   \n",
       "3         GRU  {'LSTM_input_0_units': 43, 'LSTM_num_layers': ...   \n",
       "\n",
       "   Train Accuracy  Train Recall  Train Precision  Train F1  Test Accuracy  \\\n",
       "0        0.504545      0.504545         0.504545  0.504545       0.505263   \n",
       "1        0.504545      0.504545         0.504545  0.504545       0.505263   \n",
       "2        0.495455      0.495455         0.495455  0.495455       0.494737   \n",
       "3        0.495455      0.495455         0.495455  0.495455       0.494737   \n",
       "\n",
       "   Test Recall  Test Precision   Test F1  \n",
       "0     0.505263        0.505263  0.505263  \n",
       "1     0.505263        0.505263  0.505263  \n",
       "2     0.494737        0.494737  0.494737  \n",
       "3     0.494737        0.494737  0.494737  "
      ]
     },
     "execution_count": 3,
     "metadata": {},
     "output_type": "execute_result"
    }
   ],
   "source": [
    "postprocessor.metrics()"
   ]
  },
  {
   "cell_type": "code",
   "execution_count": 4,
   "id": "3fd8404d-f58e-4cc0-889a-08da20fac899",
   "metadata": {},
   "outputs": [],
   "source": [
    "#from pyMAISE import PostProcessor"
   ]
  },
  {
   "cell_type": "code",
   "execution_count": null,
   "id": "b513f0d6-3cfa-4e97-8d79-017164438927",
   "metadata": {},
   "outputs": [],
   "source": []
  },
  {
   "cell_type": "code",
   "execution_count": 5,
   "id": "2a679fea-e949-4e85-8b0e-20eb2aefe0ca",
   "metadata": {},
   "outputs": [
    {
     "data": {
      "text/plain": [
       "(95, 2)"
      ]
     },
     "execution_count": 5,
     "metadata": {},
     "output_type": "execute_result"
    }
   ],
   "source": [
    "ytest.shape"
   ]
  },
  {
   "cell_type": "code",
   "execution_count": 7,
   "id": "29513578-a542-4070-b66f-62e3842c9706",
   "metadata": {},
   "outputs": [],
   "source": [
    "train_cm_ax, test_cm_ax = postprocessor.confusion_matrix(model_type=\"LSTM\")\n",
    "\n"
   ]
  },
  {
   "cell_type": "code",
   "execution_count": 9,
   "id": "e91ebd8d-68e3-48c5-b69a-d60e387bca7e",
   "metadata": {},
   "outputs": [
    {
     "ename": "NameError",
     "evalue": "name 'ConfusionMatrixDisplay' is not defined",
     "output_type": "error",
     "traceback": [
      "\u001b[0;31m---------------------------------------------------------------------------\u001b[0m",
      "\u001b[0;31mNameError\u001b[0m                                 Traceback (most recent call last)",
      "Cell \u001b[0;32mIn[9], line 8\u001b[0m\n\u001b[1;32m      5\u001b[0m fig, axes \u001b[38;5;241m=\u001b[39m plt\u001b[38;5;241m.\u001b[39msubplots(\u001b[38;5;241m2\u001b[39m, \u001b[38;5;241m2\u001b[39m, figsize\u001b[38;5;241m=\u001b[39m(\u001b[38;5;241m12\u001b[39m, \u001b[38;5;241m12\u001b[39m))\n\u001b[1;32m      7\u001b[0m \u001b[38;5;66;03m# Plot training confusion matrix\u001b[39;00m\n\u001b[0;32m----> 8\u001b[0m train_cm_display \u001b[38;5;241m=\u001b[39m ConfusionMatrixDisplay(confusion_matrix\u001b[38;5;241m=\u001b[39mtrain_cm[\u001b[38;5;241m0\u001b[39m])\n\u001b[1;32m      9\u001b[0m train_cm_display\u001b[38;5;241m.\u001b[39mplot(ax\u001b[38;5;241m=\u001b[39maxes[\u001b[38;5;241m0\u001b[39m, \u001b[38;5;241m0\u001b[39m])\n\u001b[1;32m     10\u001b[0m axes[\u001b[38;5;241m0\u001b[39m, \u001b[38;5;241m0\u001b[39m]\u001b[38;5;241m.\u001b[39mset_title(\u001b[38;5;124m'\u001b[39m\u001b[38;5;124mTraining Confusion Matrix\u001b[39m\u001b[38;5;124m'\u001b[39m)\n",
      "\u001b[0;31mNameError\u001b[0m: name 'ConfusionMatrixDisplay' is not defined"
     ]
    },
    {
     "data": {
      "image/png": "[encoded data removed]",
      "text/plain": [
       "<Figure size 1200x1200 with 4 Axes>"
      ]
     },
     "metadata": {},
     "output_type": "display_data"
    }
   ],
   "source": []
  },
  {
   "cell_type": "code",
   "execution_count": null,
   "id": "a65eba02-fe3f-470b-9e58-ff2750caeb11",
   "metadata": {},
   "outputs": [],
   "source": []
  }
 ],
 "metadata": {
  "kernelspec": {
   "display_name": "Python 3 (ipykernel)",
   "language": "python",
   "name": "python3"
  },
  "language_info": {
   "codemirror_mode": {
    "name": "ipython",
    "version": 3
   },
   "file_extension": ".py",
   "mimetype": "text/x-python",
   "name": "python",
   "nbconvert_exporter": "python",
   "pygments_lexer": "ipython3",
   "version": "3.11.0"
  }
 },
 "nbformat": 4,
 "nbformat_minor": 5
}
